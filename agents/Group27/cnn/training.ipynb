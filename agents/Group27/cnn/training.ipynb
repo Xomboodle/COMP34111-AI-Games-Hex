{
 "cells": [
  {
   "cell_type": "code",
   "execution_count": 1,
   "metadata": {},
   "outputs": [],
   "source": [
    "import json\n",
    "import os\n",
    "import sys\n",
    "from pathlib import Path\n",
    "\n",
    "import numpy as np\n",
    "import torch\n",
    "import torch.nn as nn\n",
    "import torch.optim as optim"
   ]
  },
  {
   "cell_type": "code",
   "execution_count": 2,
   "metadata": {},
   "outputs": [],
   "source": [
    "path = str(Path().resolve() / 'agents/Group27/mcts')\n",
    "if (path not in sys.path):\n",
    "    sys.path.append(path)\n",
    "\n",
    "from PolicyModel import PolicyModel"
   ]
  },
  {
   "cell_type": "markdown",
   "metadata": {},
   "source": [
    "# Data"
   ]
  },
  {
   "cell_type": "code",
   "execution_count": 3,
   "metadata": {},
   "outputs": [
    {
     "name": "stdout",
     "output_type": "stream",
     "text": [
      "10632\n"
     ]
    }
   ],
   "source": [
    "path = str(Path().resolve())\n",
    "with open(os.path.join(path, '..', 'data', 'chump-v-chump.json'), 'rb') as f:\n",
    "    rawData = json.load(f)\n",
    "print(len(rawData))"
   ]
  },
  {
   "cell_type": "code",
   "execution_count": 4,
   "metadata": {},
   "outputs": [
    {
     "name": "stdout",
     "output_type": "stream",
     "text": [
      "0 0 0 0 0 0 0 0 0 0 0 \n",
      " 0 0 0 0 0 0 0 0 0 0 0 \n",
      "  0 0 0 0 0 0 0 0 0 0 0 \n",
      "   0 0 0 0 0 0 0 0 0 0 0 \n",
      "    0 0 0 0 0 0 0 0 0 0 0 \n",
      "     0 0 0 0 0 0 0 0 0 0 0 \n",
      "      0 0 0 0 0 0 0 0 0 0 0 \n",
      "       0 0 0 0 0 0 0 0 0 0 0 \n",
      "        0 0 0 0 0 0 0 0 0 0 0 \n",
      "         0 0 0 0 0 0 0 0 0 0 0 \n",
      "          0 0 0 0 0 0 0 0 0 0 0 \n",
      "\n",
      "[[0, 1, 0, 1, 1, 2, 0, 3, 1, 0, 1], [2, 0, 3, 1, 1, 0, 1, 0, 0, 1, 1], [2, 0, 0, 0, 0, 1, 1, 0, 0, 0, 2], [1, 0, 0, 1, 1, 0, 3, 3, 0, 0, 2], [1, 1, 0, 1, 0, 3, 0, 1, 1, 1, 0], [1, 0, 2, 0, 1, 1, 1, 2, 1, 0, 1], [0, 1, 1, 0, 1, 0, 0, 1, 1, 0, 0], [1, 0, 3, 1, 3, 0, 0, 1, 1, 0, 0], [0, 0, 1, 1, 1, 0, 1, 0, 2, 0, 2], [1, 2, 1, 1, 0, 1, 1, 2, 2, 0, 0], [0, 1, 0, 1, 0, 1, 1, 1, 3, 1, 1]]\n"
     ]
    }
   ],
   "source": [
    "for item in rawData.items():\n",
    "    print(item[0])\n",
    "    tempMoves = item[1]['moves']\n",
    "    print(tempMoves)\n",
    "    break"
   ]
  },
  {
   "cell_type": "code",
   "execution_count": 5,
   "metadata": {},
   "outputs": [],
   "source": [
    "tempBoard = \"R 0 0 0 R B 0 0 B R 0 \\n R 0 B 0 0 B R B 0 R B \\n  B 0 R 0 R R B 0 B R 0 \\n   0 0 0 0 0 B 0 R 0 B 0 \\n    B R 0 0 B R B R R R R \\n     R B B B 0 0 R B 0 0 R \\n      B R 0 R 0 R R B R B 0 \\n       B R R B R B B B 0 R R \\n        B R 0 0 B 0 0 0 R B 0 \\n         0 B R B B B R B B 0 R \\n          B 0 0 0 0 B R B R R R \\n\""
   ]
  },
  {
   "cell_type": "markdown",
   "metadata": {},
   "source": [
    "## State Tensors"
   ]
  },
  {
   "cell_type": "code",
   "execution_count": 6,
   "metadata": {},
   "outputs": [
    {
     "data": {
      "text/plain": [
       "tensor([[[1, 0, 0, 0, 1, 0, 0, 0, 0, 1, 0],\n",
       "         [1, 0, 0, 0, 0, 0, 1, 0, 0, 1, 0],\n",
       "         [0, 0, 1, 0, 1, 1, 0, 0, 0, 1, 0],\n",
       "         [0, 0, 0, 0, 0, 0, 0, 1, 0, 0, 0],\n",
       "         [0, 1, 0, 0, 0, 1, 0, 1, 1, 1, 1],\n",
       "         [1, 0, 0, 0, 0, 0, 1, 0, 0, 0, 1],\n",
       "         [0, 1, 0, 1, 0, 1, 1, 0, 1, 0, 0],\n",
       "         [0, 1, 1, 0, 1, 0, 0, 0, 0, 1, 1],\n",
       "         [0, 1, 0, 0, 0, 0, 0, 0, 1, 0, 0],\n",
       "         [0, 0, 1, 0, 0, 0, 1, 0, 0, 0, 1],\n",
       "         [0, 0, 0, 0, 0, 0, 1, 0, 1, 1, 1]],\n",
       "\n",
       "        [[0, 0, 0, 0, 0, 1, 0, 0, 1, 0, 0],\n",
       "         [0, 0, 1, 0, 0, 1, 0, 1, 0, 0, 1],\n",
       "         [1, 0, 0, 0, 0, 0, 1, 0, 1, 0, 0],\n",
       "         [0, 0, 0, 0, 0, 1, 0, 0, 0, 1, 0],\n",
       "         [1, 0, 0, 0, 1, 0, 1, 0, 0, 0, 0],\n",
       "         [0, 1, 1, 1, 0, 0, 0, 1, 0, 0, 0],\n",
       "         [1, 0, 0, 0, 0, 0, 0, 1, 0, 1, 0],\n",
       "         [1, 0, 0, 1, 0, 1, 1, 1, 0, 0, 0],\n",
       "         [1, 0, 0, 0, 1, 0, 0, 0, 0, 1, 0],\n",
       "         [0, 1, 0, 1, 1, 1, 0, 1, 1, 0, 0],\n",
       "         [1, 0, 0, 0, 0, 1, 0, 1, 0, 0, 0]],\n",
       "\n",
       "        [[0, 1, 1, 1, 0, 0, 1, 1, 0, 0, 1],\n",
       "         [0, 1, 0, 1, 1, 0, 0, 0, 1, 0, 0],\n",
       "         [0, 1, 0, 1, 0, 0, 0, 1, 0, 0, 1],\n",
       "         [1, 1, 1, 1, 1, 0, 1, 0, 1, 0, 1],\n",
       "         [0, 0, 1, 1, 0, 0, 0, 0, 0, 0, 0],\n",
       "         [0, 0, 0, 0, 1, 1, 0, 0, 1, 1, 0],\n",
       "         [0, 0, 1, 0, 1, 0, 0, 0, 0, 0, 1],\n",
       "         [0, 0, 0, 0, 0, 0, 0, 0, 1, 0, 0],\n",
       "         [0, 0, 1, 1, 0, 1, 1, 1, 0, 0, 1],\n",
       "         [1, 0, 0, 0, 0, 0, 0, 0, 0, 1, 0],\n",
       "         [0, 1, 1, 1, 1, 0, 0, 0, 0, 0, 0]]], dtype=torch.int32)"
      ]
     },
     "execution_count": 6,
     "metadata": {},
     "output_type": "execute_result"
    }
   ],
   "source": [
    "def tensorfyBoard(boardString):\n",
    "    boardString = boardString.replace('R', '1').replace('B', '2')\n",
    "    boardRows = boardString.strip().split('\\n')\n",
    "    board = [list(map(int, row.strip().split())) for row in boardRows]\n",
    "\n",
    "    board = torch.tensor(board, dtype=torch.int)\n",
    "\n",
    "    rStones = (board == 1).int()\n",
    "    bStones = (board == 2).int()\n",
    "    nStones = (board == 0).int()\n",
    "\n",
    "    return torch.stack([rStones, bStones, nStones])\n",
    "\n",
    "tensorfyBoard(tempBoard)"
   ]
  },
  {
   "cell_type": "markdown",
   "metadata": {},
   "source": [
    "## Move Frequencies"
   ]
  },
  {
   "cell_type": "code",
   "execution_count": 7,
   "metadata": {},
   "outputs": [
    {
     "data": {
      "text/plain": [
       "tensor([0.0000, 0.0139, 0.0069, 0.0139, 0.0069, 0.0139, 0.0069, 0.0278, 0.0069,\n",
       "        0.0000, 0.0139, 0.0139, 0.0069, 0.0208, 0.0139, 0.0139, 0.0000, 0.0069,\n",
       "        0.0000, 0.0069, 0.0069, 0.0069, 0.0139, 0.0069, 0.0000, 0.0069, 0.0000,\n",
       "        0.0069, 0.0069, 0.0069, 0.0000, 0.0000, 0.0208, 0.0139, 0.0069, 0.0069,\n",
       "        0.0139, 0.0139, 0.0000, 0.0278, 0.0208, 0.0069, 0.0000, 0.0208, 0.0069,\n",
       "        0.0069, 0.0069, 0.0139, 0.0000, 0.0208, 0.0000, 0.0069, 0.0069, 0.0069,\n",
       "        0.0000, 0.0069, 0.0000, 0.0139, 0.0000, 0.0139, 0.0139, 0.0069, 0.0139,\n",
       "        0.0139, 0.0069, 0.0069, 0.0000, 0.0069, 0.0139, 0.0000, 0.0139, 0.0000,\n",
       "        0.0000, 0.0069, 0.0069, 0.0000, 0.0069, 0.0069, 0.0000, 0.0208, 0.0069,\n",
       "        0.0208, 0.0000, 0.0000, 0.0069, 0.0139, 0.0000, 0.0000, 0.0000, 0.0000,\n",
       "        0.0139, 0.0139, 0.0069, 0.0069, 0.0139, 0.0069, 0.0139, 0.0000, 0.0208,\n",
       "        0.0139, 0.0139, 0.0069, 0.0069, 0.0000, 0.0069, 0.0069, 0.0139, 0.0139,\n",
       "        0.0069, 0.0000, 0.0000, 0.0139, 0.0069, 0.0139, 0.0069, 0.0069, 0.0069,\n",
       "        0.0069, 0.0208, 0.0069, 0.0069])"
      ]
     },
     "execution_count": 7,
     "metadata": {},
     "output_type": "execute_result"
    }
   ],
   "source": [
    "def encodeMoves(moves2D, boardTensor):\n",
    "    moves = torch.tensor(np.array(moves2D).flatten())\n",
    "\n",
    "    # smoothing\n",
    "    moves += boardTensor[2].flatten()\n",
    "\n",
    "    # normalise\n",
    "    moves = moves / moves.sum()\n",
    "    return moves\n",
    "\n",
    "encodeMoves(tempMoves, tensorfyBoard(tempBoard))"
   ]
  },
  {
   "cell_type": "markdown",
   "metadata": {},
   "source": [
    "## ..."
   ]
  },
  {
   "cell_type": "code",
   "execution_count": 8,
   "metadata": {},
   "outputs": [
    {
     "name": "stdout",
     "output_type": "stream",
     "text": [
      "torch.Size([10632, 3, 11, 11]) torch.Size([10632, 121])\n"
     ]
    }
   ],
   "source": [
    "def processDataSet(dataSet):\n",
    "    boardTensors = []\n",
    "    moveTensors = []\n",
    "\n",
    "    for (boardString, data) in dataSet.items():\n",
    "        boardTensor = tensorfyBoard(boardString)\n",
    "        moveTensor = encodeMoves(data['moves'], boardTensor)\n",
    "\n",
    "        boardTensors.append(boardTensor)\n",
    "        moveTensors.append(moveTensor)\n",
    "\n",
    "    boards = torch.stack(boardTensors)\n",
    "    moves = torch.stack(moveTensors)\n",
    "\n",
    "    return boards, moves\n",
    "\n",
    "boards, moves = processDataSet(rawData)\n",
    "print(boards.shape, moves.shape)"
   ]
  },
  {
   "cell_type": "markdown",
   "metadata": {},
   "source": [
    "# Data Augmentation\n",
    "\n",
    "The Hex board is symmetric. We can use this to augment our data. For each board state, we can generate 6 more board states by rotating the board by 60 degrees each time. This will give us 7 times more data to train on."
   ]
  },
  {
   "cell_type": "code",
   "execution_count": 9,
   "metadata": {},
   "outputs": [],
   "source": [
    "# TODO"
   ]
  },
  {
   "cell_type": "markdown",
   "metadata": {},
   "source": [
    "# Training"
   ]
  },
  {
   "cell_type": "code",
   "execution_count": 10,
   "metadata": {},
   "outputs": [],
   "source": [
    "model = PolicyModel(boardSize=11)"
   ]
  },
  {
   "cell_type": "code",
   "execution_count": 11,
   "metadata": {},
   "outputs": [
    {
     "name": "stdout",
     "output_type": "stream",
     "text": [
      "Epoch 1: 0.772494375705719\n",
      "Epoch 2: 0.7722831964492798\n",
      "Epoch 3: 0.7722120881080627\n",
      "Epoch 4: 0.7721202373504639\n",
      "Epoch 5: 0.7719911336898804\n",
      "Epoch 6: 0.771724283695221\n",
      "Epoch 7: 0.7710041999816895\n",
      "Epoch 8: 0.7701238989830017\n",
      "Epoch 9: 0.7694451808929443\n",
      "Epoch 10: 0.7690417170524597\n"
     ]
    },
    {
     "data": {
      "text/plain": [
       "PolicyModel(\n",
       "  (conv1): Conv2d(3, 32, kernel_size=(3, 3), stride=(1, 1), padding=(1, 1))\n",
       "  (conv2): Conv2d(32, 64, kernel_size=(3, 3), stride=(1, 1), padding=(1, 1))\n",
       "  (conv3): Conv2d(64, 64, kernel_size=(3, 3), stride=(1, 1), padding=(1, 1))\n",
       "  (convp): Conv2d(64, 2, kernel_size=(1, 1), stride=(1, 1))\n",
       "  (fcp): Linear(in_features=242, out_features=121, bias=True)\n",
       ")"
      ]
     },
     "execution_count": 11,
     "metadata": {},
     "output_type": "execute_result"
    }
   ],
   "source": [
    "def trainModel(model, boards, moves, learningRate=1e-3, epochs=10):\n",
    "\n",
    "    optimiser = optim.Adam(model.parameters(), lr=learningRate)\n",
    "    criterion = torch.nn.KLDivLoss(reduction='batchmean')\n",
    "\n",
    "    model.train()\n",
    "\n",
    "    for epoch in range(epochs):\n",
    "        optimiser.zero_grad()\n",
    "\n",
    "        # forward\n",
    "        logits = model(boards)\n",
    "        logProbs = torch.nn.functional.log_softmax(logits, dim=1)\n",
    "\n",
    "        # loss\n",
    "        loss = criterion(logProbs, moves)\n",
    "\n",
    "        # backpropagation\n",
    "        loss.backward()\n",
    "        optimiser.step()\n",
    "\n",
    "        print(f'Epoch {epoch+1}: {loss.item()}')\n",
    "\n",
    "    return model\n",
    "\n",
    "trainModel(model, boards.float(), moves)"
   ]
  },
  {
   "cell_type": "markdown",
   "metadata": {},
   "source": [
    "# Results"
   ]
  },
  {
   "cell_type": "code",
   "execution_count": 12,
   "metadata": {},
   "outputs": [
    {
     "data": {
      "text/plain": [
       "tensor([[0.0078, 0.0090, 0.0069, 0.0078, 0.0096, 0.0084, 0.0092, 0.0083, 0.0093,\n",
       "         0.0093, 0.0097, 0.0090, 0.0095, 0.0071, 0.0091, 0.0083, 0.0077, 0.0092,\n",
       "         0.0070, 0.0082, 0.0092, 0.0086, 0.0095, 0.0079, 0.0071, 0.0090, 0.0089,\n",
       "         0.0083, 0.0082, 0.0081, 0.0088, 0.0077, 0.0079, 0.0091, 0.0094, 0.0092,\n",
       "         0.0086, 0.0075, 0.0080, 0.0077, 0.0092, 0.0101, 0.0073, 0.0087, 0.0074,\n",
       "         0.0082, 0.0067, 0.0089, 0.0073, 0.0093, 0.0093, 0.0087, 0.0079, 0.0083,\n",
       "         0.0091, 0.0073, 0.0072, 0.0081, 0.0087, 0.0080, 0.0089, 0.0072, 0.0077,\n",
       "         0.0075, 0.0084, 0.0079, 0.0085, 0.0084, 0.0076, 0.0076, 0.0099, 0.0095,\n",
       "         0.0074, 0.0077, 0.0088, 0.0104, 0.0099, 0.0073, 0.0091, 0.0079, 0.0082,\n",
       "         0.0077, 0.0072, 0.0088, 0.0086, 0.0080, 0.0085, 0.0086, 0.0091, 0.0077,\n",
       "         0.0070, 0.0077, 0.0068, 0.0075, 0.0096, 0.0087, 0.0064, 0.0089, 0.0076,\n",
       "         0.0094, 0.0087, 0.0089, 0.0084, 0.0094, 0.0075, 0.0083, 0.0074, 0.0088,\n",
       "         0.0069, 0.0077, 0.0091, 0.0071, 0.0073, 0.0070, 0.0079, 0.0082, 0.0072,\n",
       "         0.0081, 0.0081, 0.0072, 0.0073]])"
      ]
     },
     "execution_count": 12,
     "metadata": {},
     "output_type": "execute_result"
    }
   ],
   "source": [
    "def infer(model, boardString):\n",
    "    model.eval()\n",
    "    with torch.no_grad():\n",
    "        boardTensor = tensorfyBoard(boardString)\n",
    "        logits = model(boardTensor.float().unsqueeze(0))\n",
    "        probs = torch.nn.functional.softmax(logits, dim=1)\n",
    "\n",
    "    return probs\n",
    "\n",
    "infer(model, tempBoard)"
   ]
  },
  {
   "cell_type": "code",
   "execution_count": 13,
   "metadata": {},
   "outputs": [],
   "source": [
    "torch.save(model.state_dict(), './models/test.pth')"
   ]
  }
 ],
 "metadata": {
  "kernelspec": {
   "display_name": "Python 3",
   "language": "python",
   "name": "python3"
  },
  "language_info": {
   "codemirror_mode": {
    "name": "ipython",
    "version": 3
   },
   "file_extension": ".py",
   "mimetype": "text/x-python",
   "name": "python",
   "nbconvert_exporter": "python",
   "pygments_lexer": "ipython3",
   "version": "3.11.5"
  }
 },
 "nbformat": 4,
 "nbformat_minor": 2
}
