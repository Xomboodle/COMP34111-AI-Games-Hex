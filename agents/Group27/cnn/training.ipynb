{
 "cells": [
  {
   "cell_type": "code",
   "execution_count": 1,
   "metadata": {},
   "outputs": [],
   "source": [
    "import json\n",
    "import os\n",
    "import sys\n",
    "from pathlib import Path\n",
    "\n",
    "import numpy as np\n",
    "import torch\n",
    "from torch.utils.data import DataLoader, TensorDataset"
   ]
  },
  {
   "cell_type": "code",
   "execution_count": 2,
   "metadata": {},
   "outputs": [],
   "source": [
    "path = str(Path().resolve() / 'agents/Group27/mcts')\n",
    "if (path not in sys.path):\n",
    "    sys.path.append(path)\n",
    "\n",
    "from PolicyModel import PolicyModel\n",
    "from HeuristicModel import HeuristicModel"
   ]
  },
  {
   "cell_type": "code",
   "execution_count": 3,
   "metadata": {},
   "outputs": [],
   "source": [
    "modelName = input()\n",
    "if (modelName == ''):\n",
    "    modelName = 'test'"
   ]
  },
  {
   "cell_type": "markdown",
   "metadata": {},
   "source": [
    "# Data"
   ]
  },
  {
   "cell_type": "code",
   "execution_count": null,
   "metadata": {},
   "outputs": [],
   "source": [
    "def loadData(dataFile):\n",
    "    path = str(Path().resolve())\n",
    "    with open(os.path.join(path, '..', 'data', f'{dataFile}.json'), 'rb') as f:\n",
    "        rawData = json.load(f)\n",
    "    print(len(rawData))\n",
    "    return rawData\n",
    "\n",
    "rawExpertData = loadData('expert-v-expert')\n",
    "rawSelfPlayData = loadData('monkey-v-monkey')"
   ]
  },
  {
   "cell_type": "code",
   "execution_count": null,
   "metadata": {},
   "outputs": [],
   "source": [
    "for item in rawSelfPlayData.items():\n",
    "    print(item[0])\n",
    "    tempMoves = item[1]['moves']\n",
    "    print(tempMoves)\n",
    "    break"
   ]
  },
  {
   "cell_type": "code",
   "execution_count": 6,
   "metadata": {},
   "outputs": [],
   "source": [
    "tempBoard = \"R 0 0 0 R B 0 0 B R 0 \\n R 0 B 0 0 B R B 0 R B \\n  B 0 R 0 R R B 0 B R 0 \\n   0 0 0 0 0 B 0 R 0 B 0 \\n    B R 0 0 B R B R R R R \\n     R B B B 0 0 R B 0 0 R \\n      B R 0 R 0 R R B R B 0 \\n       B R R B R B B B 0 R R \\n        B R 0 0 B 0 0 0 R B 0 \\n         0 B R B B B R B B 0 R \\n          B 0 0 0 0 B R B R R R \\n\""
   ]
  },
  {
   "cell_type": "markdown",
   "metadata": {},
   "source": [
    "## State Tensors"
   ]
  },
  {
   "cell_type": "code",
   "execution_count": null,
   "metadata": {},
   "outputs": [],
   "source": [
    "def tensorfyBoard(boardString):\n",
    "    boardString = boardString.replace('R', '1').replace('B', '2')\n",
    "    boardRows = boardString.strip().split('\\n')\n",
    "    board = [list(map(int, row.strip().split())) for row in boardRows]\n",
    "\n",
    "    board = torch.tensor(board, dtype=torch.int)\n",
    "\n",
    "    rStones = (board == 1).int()\n",
    "    bStones = (board == 2).int()\n",
    "    nStones = (board == 0).int()\n",
    "\n",
    "    return torch.stack([rStones, bStones, nStones])\n",
    "\n",
    "tensorfyBoard(tempBoard)"
   ]
  },
  {
   "cell_type": "markdown",
   "metadata": {},
   "source": [
    "## Move Frequencies"
   ]
  },
  {
   "cell_type": "code",
   "execution_count": null,
   "metadata": {},
   "outputs": [],
   "source": [
    "def encodeMoves(moves2D, boardTensor):\n",
    "    moves = torch.tensor(np.array(moves2D).flatten())\n",
    "\n",
    "    # smoothing\n",
    "    moves += boardTensor[2].flatten()\n",
    "\n",
    "    # normalise\n",
    "    moves = moves / moves.sum()\n",
    "    return moves\n",
    "\n",
    "encodeMoves(tempMoves, tensorfyBoard(tempBoard))"
   ]
  },
  {
   "cell_type": "markdown",
   "metadata": {},
   "source": [
    "## Generation"
   ]
  },
  {
   "cell_type": "code",
   "execution_count": null,
   "metadata": {},
   "outputs": [],
   "source": [
    "def processDataSet(dataSet):\n",
    "    boardTensors = []\n",
    "    moveTensors = []\n",
    "    payoffTensors = []\n",
    "\n",
    "    for (boardString, data) in dataSet.items():\n",
    "        boardTensor = tensorfyBoard(boardString)\n",
    "        moveTensor = encodeMoves(data['moves'], boardTensor)\n",
    "\n",
    "        boardTensors.append(boardTensor)\n",
    "        moveTensors.append(moveTensor)\n",
    "        payoffTensors.append(torch.tensor(data['payoff']))\n",
    "\n",
    "    boards = torch.stack(boardTensors)\n",
    "    moves = torch.stack(moveTensors)\n",
    "    payoffs = torch.stack(payoffTensors)\n",
    "\n",
    "    return boards, moves, payoffs\n",
    "\n",
    "expertBoards, expertMoves, expertPayoffs = processDataSet(rawExpertData)\n",
    "print(expertBoards.shape, expertMoves.shape, expertPayoffs.shape)\n",
    "selfPlayBoards, selfPlayMoves, selfPlayPayoffs = processDataSet(rawSelfPlayData)\n",
    "print(selfPlayBoards.shape, selfPlayMoves.shape, selfPlayPayoffs.shape)"
   ]
  },
  {
   "cell_type": "markdown",
   "metadata": {},
   "source": [
    "## Data Augmentation\n",
    "\n",
    "The Hex board is symmetric. We can use this to augment our data. For each board state, we can generate 6 more board states by rotating the board by 60 degrees each time. This will give us 7 times more data to train on."
   ]
  },
  {
   "cell_type": "code",
   "execution_count": 10,
   "metadata": {},
   "outputs": [],
   "source": [
    "# TODO"
   ]
  },
  {
   "cell_type": "markdown",
   "metadata": {},
   "source": [
    "# Policy Model\n",
    "## Training"
   ]
  },
  {
   "cell_type": "code",
   "execution_count": 11,
   "metadata": {},
   "outputs": [],
   "source": [
    "policyModel = PolicyModel(boardSize=11)"
   ]
  },
  {
   "cell_type": "code",
   "execution_count": null,
   "metadata": {},
   "outputs": [],
   "source": [
    "def trainModel(model, criterion, boards, expected, softmax, batchSize=256, learningRate=1e-3, epochs=10):\n",
    "\n",
    "    optimiser = torch.optim.Adam(model.parameters(), lr=learningRate)\n",
    "\n",
    "    dataset = TensorDataset(boards, expected)\n",
    "    dataLoader = DataLoader(dataset, batch_size=batchSize, shuffle=True)\n",
    "\n",
    "    model.train()\n",
    "\n",
    "    for epoch in range(epochs):\n",
    "        epochLoss = 0.0\n",
    "        for batchBoards, batchExpected in dataLoader:\n",
    "            optimiser.zero_grad()\n",
    "\n",
    "            # forward\n",
    "            logits = model(batchBoards)\n",
    "            if softmax:\n",
    "                predictions = torch.nn.functional.log_softmax(logits, dim=1)\n",
    "            else:\n",
    "                predictions = logits.squeeze(1)\n",
    "\n",
    "            # loss\n",
    "            loss = criterion(predictions, batchExpected)\n",
    "            epochLoss += loss.item()\n",
    "\n",
    "            # backpropagation\n",
    "            loss.backward()\n",
    "            optimiser.step()\n",
    "\n",
    "        print(f'Epoch {epoch+1}: {epochLoss/len(dataLoader):.4f}')\n",
    "\n",
    "    return model\n",
    "\n",
    "criterion = torch.nn.KLDivLoss(reduction='batchmean')\n",
    "\n",
    "# train on expert moves\n",
    "print('EXPERT')\n",
    "trainModel(policyModel, criterion, expertBoards.float(), expertMoves, softmax=True, learningRate=1e-2)\n",
    "# train on self-play moves\n",
    "print('SELF-PLAY')\n",
    "trainModel(policyModel, criterion, selfPlayBoards.float(), selfPlayMoves, softmax=True, learningRate=1e-3)"
   ]
  },
  {
   "cell_type": "markdown",
   "metadata": {},
   "source": [
    "## Results"
   ]
  },
  {
   "cell_type": "code",
   "execution_count": null,
   "metadata": {},
   "outputs": [],
   "source": [
    "def infer(model, boardString):\n",
    "    model.eval()\n",
    "    with torch.no_grad():\n",
    "        boardTensor = tensorfyBoard(boardString)\n",
    "        logits = model(boardTensor.float().unsqueeze(0))\n",
    "        probs = torch.nn.functional.softmax(logits, dim=1)\n",
    "\n",
    "    return probs\n",
    "\n",
    "infer(policyModel, tempBoard)"
   ]
  },
  {
   "cell_type": "code",
   "execution_count": 14,
   "metadata": {},
   "outputs": [],
   "source": [
    "torch.save(policyModel.state_dict(), f'./models/{modelName}_policy.pth')"
   ]
  },
  {
   "cell_type": "markdown",
   "metadata": {},
   "source": [
    "# Heuristic Model"
   ]
  },
  {
   "cell_type": "markdown",
   "metadata": {},
   "source": [
    "## Training"
   ]
  },
  {
   "cell_type": "code",
   "execution_count": 15,
   "metadata": {},
   "outputs": [],
   "source": [
    "heuristicModel = HeuristicModel(boardSize=11)"
   ]
  },
  {
   "cell_type": "code",
   "execution_count": null,
   "metadata": {},
   "outputs": [],
   "source": [
    "criterion = torch.nn.MSELoss()\n",
    "\n",
    "# train on expert moves\n",
    "print('EXPERT')\n",
    "trainModel(heuristicModel, criterion, expertBoards.float(), expertPayoffs.float(), softmax=False, batchSize=256, learningRate=1e-2)\n",
    "# train on self-play moves\n",
    "print('SELF-PLAY')\n",
    "trainModel(heuristicModel, criterion, selfPlayBoards.float(), selfPlayPayoffs.float(), softmax=False, batchSize=256, learningRate=1e-3)"
   ]
  },
  {
   "cell_type": "markdown",
   "metadata": {},
   "source": [
    "## Results"
   ]
  },
  {
   "cell_type": "code",
   "execution_count": null,
   "metadata": {},
   "outputs": [],
   "source": [
    "infer(heuristicModel, tempBoard)"
   ]
  },
  {
   "cell_type": "code",
   "execution_count": 18,
   "metadata": {},
   "outputs": [],
   "source": [
    "torch.save(heuristicModel.state_dict(), f'./models/{modelName}_heuristic.pth')"
   ]
  }
 ],
 "metadata": {
  "kernelspec": {
   "display_name": "Python 3",
   "language": "python",
   "name": "python3"
  },
  "language_info": {
   "codemirror_mode": {
    "name": "ipython",
    "version": 3
   },
   "file_extension": ".py",
   "mimetype": "text/x-python",
   "name": "python",
   "nbconvert_exporter": "python",
   "pygments_lexer": "ipython3",
   "version": "3.11.5"
  }
 },
 "nbformat": 4,
 "nbformat_minor": 2
}
