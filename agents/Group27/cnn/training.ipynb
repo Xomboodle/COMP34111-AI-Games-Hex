{
 "cells": [
  {
   "cell_type": "code",
   "execution_count": 62,
   "metadata": {},
   "outputs": [],
   "source": [
    "import json\n",
    "import os\n",
    "import sys\n",
    "from pathlib import Path\n",
    "\n",
    "import numpy as np\n",
    "import torch\n",
    "import torch.nn as nn\n",
    "import torch.optim as optim"
   ]
  },
  {
   "cell_type": "code",
   "execution_count": 63,
   "metadata": {},
   "outputs": [],
   "source": [
    "path = str(Path().resolve() / 'agents/Group27/mcts')\n",
    "if (path not in sys.path):\n",
    "    sys.path.append(path)\n",
    "\n",
    "from PolicyModel import PolicyModel"
   ]
  },
  {
   "cell_type": "markdown",
   "metadata": {},
   "source": [
    "# Data"
   ]
  },
  {
   "cell_type": "code",
   "execution_count": 64,
   "metadata": {},
   "outputs": [
    {
     "name": "stdout",
     "output_type": "stream",
     "text": [
      "1086\n"
     ]
    }
   ],
   "source": [
    "path = str(Path().resolve())\n",
    "with open(os.path.join(path, '..', 'data', 'selfPlayData.json'), 'rb') as f:\n",
    "    rawData = json.load(f)\n",
    "print(len(rawData))"
   ]
  },
  {
   "cell_type": "code",
   "execution_count": 65,
   "metadata": {},
   "outputs": [
    {
     "name": "stdout",
     "output_type": "stream",
     "text": [
      "0 0 0 0 0 0 0 0 0 0 0 \n",
      " 0 0 0 0 0 0 0 0 0 0 0 \n",
      "  0 0 0 0 0 0 0 0 0 0 0 \n",
      "   0 0 0 0 0 0 0 0 0 0 0 \n",
      "    0 0 0 0 0 0 0 0 0 0 0 \n",
      "     0 0 0 0 0 0 0 0 0 0 0 \n",
      "      0 0 0 0 0 0 0 0 0 0 0 \n",
      "       0 0 0 0 0 0 0 0 0 0 0 \n",
      "        0 0 0 0 0 0 0 0 0 0 0 \n",
      "         0 0 0 0 0 0 0 0 0 0 0 \n",
      "          0 0 0 0 0 0 0 0 0 0 0 \n",
      "\n",
      "[[0, 0, 0, 1, 1, 1, 0, 0, 0, 0, 0], [0, 0, 0, 0, 0, 0, 1, 0, 0, 0, 0], [0, 0, 0, 0, 0, 0, 1, 1, 1, 0, 0], [1, 0, 0, 0, 0, 0, 0, 0, 0, 0, 0], [0, 0, 2, 1, 0, 0, 0, 0, 0, 0, 0], [1, 0, 0, 0, 0, 0, 0, 0, 0, 0, 0], [0, 1, 0, 0, 0, 0, 0, 0, 0, 0, 0], [1, 1, 0, 0, 0, 0, 0, 0, 2, 0, 0], [0, 0, 0, 0, 0, 0, 0, 0, 0, 0, 0], [1, 0, 1, 0, 0, 0, 0, 0, 0, 0, 0], [0, 0, 1, 0, 0, 0, 0, 0, 0, 0, 0]]\n"
     ]
    }
   ],
   "source": [
    "for item in rawData.items():\n",
    "    print(item[0])\n",
    "    tempMoves = item[1]\n",
    "    print(tempMoves)\n",
    "    break"
   ]
  },
  {
   "cell_type": "code",
   "execution_count": 66,
   "metadata": {},
   "outputs": [],
   "source": [
    "tempBoard = \"R 0 0 0 R B 0 0 B R 0 \\n R 0 B 0 0 B R B 0 R B \\n  B 0 R 0 R R B 0 B R 0 \\n   0 0 0 0 0 B 0 R 0 B 0 \\n    B R 0 0 B R B R R R R \\n     R B B B 0 0 R B 0 0 R \\n      B R 0 R 0 R R B R B 0 \\n       B R R B R B B B 0 R R \\n        B R 0 0 B 0 0 0 R B 0 \\n         0 B R B B B R B B 0 R \\n          B 0 0 0 0 B R B R R R \\n\""
   ]
  },
  {
   "cell_type": "markdown",
   "metadata": {},
   "source": [
    "## State Tensors"
   ]
  },
  {
   "cell_type": "code",
   "execution_count": 67,
   "metadata": {},
   "outputs": [
    {
     "data": {
      "text/plain": [
       "tensor([[[1, 0, 0, 0, 1, 0, 0, 0, 0, 1, 0],\n",
       "         [1, 0, 0, 0, 0, 0, 1, 0, 0, 1, 0],\n",
       "         [0, 0, 1, 0, 1, 1, 0, 0, 0, 1, 0],\n",
       "         [0, 0, 0, 0, 0, 0, 0, 1, 0, 0, 0],\n",
       "         [0, 1, 0, 0, 0, 1, 0, 1, 1, 1, 1],\n",
       "         [1, 0, 0, 0, 0, 0, 1, 0, 0, 0, 1],\n",
       "         [0, 1, 0, 1, 0, 1, 1, 0, 1, 0, 0],\n",
       "         [0, 1, 1, 0, 1, 0, 0, 0, 0, 1, 1],\n",
       "         [0, 1, 0, 0, 0, 0, 0, 0, 1, 0, 0],\n",
       "         [0, 0, 1, 0, 0, 0, 1, 0, 0, 0, 1],\n",
       "         [0, 0, 0, 0, 0, 0, 1, 0, 1, 1, 1]],\n",
       "\n",
       "        [[0, 0, 0, 0, 0, 1, 0, 0, 1, 0, 0],\n",
       "         [0, 0, 1, 0, 0, 1, 0, 1, 0, 0, 1],\n",
       "         [1, 0, 0, 0, 0, 0, 1, 0, 1, 0, 0],\n",
       "         [0, 0, 0, 0, 0, 1, 0, 0, 0, 1, 0],\n",
       "         [1, 0, 0, 0, 1, 0, 1, 0, 0, 0, 0],\n",
       "         [0, 1, 1, 1, 0, 0, 0, 1, 0, 0, 0],\n",
       "         [1, 0, 0, 0, 0, 0, 0, 1, 0, 1, 0],\n",
       "         [1, 0, 0, 1, 0, 1, 1, 1, 0, 0, 0],\n",
       "         [1, 0, 0, 0, 1, 0, 0, 0, 0, 1, 0],\n",
       "         [0, 1, 0, 1, 1, 1, 0, 1, 1, 0, 0],\n",
       "         [1, 0, 0, 0, 0, 1, 0, 1, 0, 0, 0]],\n",
       "\n",
       "        [[0, 1, 1, 1, 0, 0, 1, 1, 0, 0, 1],\n",
       "         [0, 1, 0, 1, 1, 0, 0, 0, 1, 0, 0],\n",
       "         [0, 1, 0, 1, 0, 0, 0, 1, 0, 0, 1],\n",
       "         [1, 1, 1, 1, 1, 0, 1, 0, 1, 0, 1],\n",
       "         [0, 0, 1, 1, 0, 0, 0, 0, 0, 0, 0],\n",
       "         [0, 0, 0, 0, 1, 1, 0, 0, 1, 1, 0],\n",
       "         [0, 0, 1, 0, 1, 0, 0, 0, 0, 0, 1],\n",
       "         [0, 0, 0, 0, 0, 0, 0, 0, 1, 0, 0],\n",
       "         [0, 0, 1, 1, 0, 1, 1, 1, 0, 0, 1],\n",
       "         [1, 0, 0, 0, 0, 0, 0, 0, 0, 1, 0],\n",
       "         [0, 1, 1, 1, 1, 0, 0, 0, 0, 0, 0]]], dtype=torch.int32)"
      ]
     },
     "execution_count": 67,
     "metadata": {},
     "output_type": "execute_result"
    }
   ],
   "source": [
    "def tensorfyBoard(boardString):\n",
    "    boardString = boardString.replace('R', '1').replace('B', '2')\n",
    "    boardRows = boardString.strip().split('\\n')\n",
    "    board = [list(map(int, row.strip().split())) for row in boardRows]\n",
    "\n",
    "    board = torch.tensor(board, dtype=torch.int)\n",
    "\n",
    "    rStones = (board == 1).int()\n",
    "    bStones = (board == 2).int()\n",
    "    nStones = (board == 0).int()\n",
    "\n",
    "    return torch.stack([rStones, bStones, nStones])\n",
    "\n",
    "tensorfyBoard(tempBoard)"
   ]
  },
  {
   "cell_type": "markdown",
   "metadata": {},
   "source": [
    "## Move Frequencies"
   ]
  },
  {
   "cell_type": "code",
   "execution_count": 68,
   "metadata": {},
   "outputs": [
    {
     "data": {
      "text/plain": [
       "tensor([0.0000, 0.0156, 0.0156, 0.0312, 0.0156, 0.0156, 0.0156, 0.0156, 0.0000,\n",
       "        0.0000, 0.0156, 0.0000, 0.0156, 0.0000, 0.0156, 0.0156, 0.0000, 0.0156,\n",
       "        0.0000, 0.0156, 0.0000, 0.0000, 0.0000, 0.0156, 0.0000, 0.0156, 0.0000,\n",
       "        0.0000, 0.0156, 0.0312, 0.0156, 0.0000, 0.0156, 0.0312, 0.0156, 0.0156,\n",
       "        0.0156, 0.0156, 0.0000, 0.0156, 0.0000, 0.0156, 0.0000, 0.0156, 0.0000,\n",
       "        0.0000, 0.0469, 0.0312, 0.0000, 0.0000, 0.0000, 0.0000, 0.0000, 0.0000,\n",
       "        0.0000, 0.0156, 0.0000, 0.0000, 0.0000, 0.0156, 0.0156, 0.0000, 0.0000,\n",
       "        0.0156, 0.0156, 0.0000, 0.0000, 0.0156, 0.0156, 0.0000, 0.0156, 0.0000,\n",
       "        0.0000, 0.0000, 0.0000, 0.0000, 0.0156, 0.0156, 0.0156, 0.0000, 0.0000,\n",
       "        0.0000, 0.0000, 0.0000, 0.0000, 0.0469, 0.0000, 0.0000, 0.0000, 0.0000,\n",
       "        0.0156, 0.0156, 0.0000, 0.0156, 0.0156, 0.0156, 0.0000, 0.0000, 0.0156,\n",
       "        0.0312, 0.0000, 0.0156, 0.0000, 0.0000, 0.0000, 0.0000, 0.0000, 0.0000,\n",
       "        0.0156, 0.0000, 0.0000, 0.0156, 0.0312, 0.0156, 0.0156, 0.0000, 0.0000,\n",
       "        0.0000, 0.0000, 0.0000, 0.0000])"
      ]
     },
     "execution_count": 68,
     "metadata": {},
     "output_type": "execute_result"
    }
   ],
   "source": [
    "def encodeMoves(moves2D, boardTensor):\n",
    "    moves = torch.tensor(np.array(moves2D).flatten())\n",
    "\n",
    "    # smoothing\n",
    "    moves += boardTensor[2].flatten()\n",
    "\n",
    "    # normalise\n",
    "    moves = moves / moves.sum()\n",
    "    return moves\n",
    "\n",
    "encodeMoves(tempMoves, tensorfyBoard(tempBoard))"
   ]
  },
  {
   "cell_type": "markdown",
   "metadata": {},
   "source": [
    "## ..."
   ]
  },
  {
   "cell_type": "code",
   "execution_count": 69,
   "metadata": {},
   "outputs": [
    {
     "name": "stdout",
     "output_type": "stream",
     "text": [
      "torch.Size([1086, 3, 11, 11]) torch.Size([1086, 121])\n"
     ]
    }
   ],
   "source": [
    "def processDataSet(dataSet):\n",
    "    boardTensors = []\n",
    "    moveTensors = []\n",
    "\n",
    "    for (boardString, moves2D) in dataSet.items():\n",
    "        boardTensor = tensorfyBoard(boardString)\n",
    "        moveTensor = encodeMoves(moves2D, boardTensor)\n",
    "\n",
    "        boardTensors.append(boardTensor)\n",
    "        moveTensors.append(moveTensor)\n",
    "\n",
    "    boards = torch.stack(boardTensors)\n",
    "    moves = torch.stack(moveTensors)\n",
    "\n",
    "    return boards, moves\n",
    "\n",
    "boards, moves = processDataSet(rawData)\n",
    "print(boards.shape, moves.shape)"
   ]
  },
  {
   "cell_type": "markdown",
   "metadata": {},
   "source": [
    "# Data Augmentation\n",
    "\n",
    "The Hex board is symmetric. We can use this to augment our data. For each board state, we can generate 6 more board states by rotating the board by 60 degrees each time. This will give us 7 times more data to train on."
   ]
  },
  {
   "cell_type": "code",
   "execution_count": null,
   "metadata": {},
   "outputs": [],
   "source": [
    "# TODO"
   ]
  },
  {
   "cell_type": "markdown",
   "metadata": {},
   "source": [
    "# Training"
   ]
  },
  {
   "cell_type": "code",
   "execution_count": 70,
   "metadata": {},
   "outputs": [],
   "source": [
    "model = PolicyModel(boardSize=11)"
   ]
  },
  {
   "cell_type": "code",
   "execution_count": 71,
   "metadata": {},
   "outputs": [
    {
     "name": "stdout",
     "output_type": "stream",
     "text": [
      "Epoch 1: 0.784312903881073\n",
      "Epoch 2: 0.7817811965942383\n",
      "Epoch 3: 0.7784368991851807\n",
      "Epoch 4: 0.7742353677749634\n",
      "Epoch 5: 0.7701846361160278\n",
      "Epoch 6: 0.7666717171669006\n",
      "Epoch 7: 0.7622544765472412\n",
      "Epoch 8: 0.7573235034942627\n",
      "Epoch 9: 0.7527790665626526\n",
      "Epoch 10: 0.7484581470489502\n"
     ]
    },
    {
     "data": {
      "text/plain": [
       "PolicyModel(\n",
       "  (conv1): Conv2d(3, 32, kernel_size=(3, 3), stride=(1, 1), padding=(1, 1))\n",
       "  (conv2): Conv2d(32, 64, kernel_size=(3, 3), stride=(1, 1), padding=(1, 1))\n",
       "  (conv3): Conv2d(64, 64, kernel_size=(3, 3), stride=(1, 1), padding=(1, 1))\n",
       "  (convp): Conv2d(64, 2, kernel_size=(1, 1), stride=(1, 1))\n",
       "  (fcp): Linear(in_features=242, out_features=121, bias=True)\n",
       ")"
      ]
     },
     "execution_count": 71,
     "metadata": {},
     "output_type": "execute_result"
    }
   ],
   "source": [
    "def trainModel(model, boards, moves, learningRate=1e-3, epochs=10):\n",
    "\n",
    "    optimiser = optim.Adam(model.parameters(), lr=learningRate)\n",
    "    criterion = torch.nn.KLDivLoss(reduction='batchmean')\n",
    "\n",
    "    model.train()\n",
    "\n",
    "    for epoch in range(epochs):\n",
    "        optimiser.zero_grad()\n",
    "\n",
    "        # forward\n",
    "        logits = model(boards)\n",
    "        logProbs = torch.nn.functional.log_softmax(logits, dim=1)\n",
    "\n",
    "        # loss\n",
    "        loss = criterion(logProbs, moves)\n",
    "\n",
    "        # backpropagation\n",
    "        loss.backward()\n",
    "        optimiser.step()\n",
    "\n",
    "        print(f'Epoch {epoch+1}: {loss.item()}')\n",
    "\n",
    "    return model\n",
    "\n",
    "trainModel(model, boards.float(), moves)"
   ]
  },
  {
   "cell_type": "markdown",
   "metadata": {},
   "source": [
    "# Results"
   ]
  },
  {
   "cell_type": "code",
   "execution_count": 72,
   "metadata": {},
   "outputs": [
    {
     "data": {
      "text/plain": [
       "tensor([[0.0093, 0.0084, 0.0081, 0.0079, 0.0059, 0.0067, 0.0088, 0.0062, 0.0105,\n",
       "         0.0072, 0.0063, 0.0050, 0.0068, 0.0059, 0.0097, 0.0055, 0.0065, 0.0119,\n",
       "         0.0078, 0.0050, 0.0083, 0.0088, 0.0095, 0.0097, 0.0072, 0.0075, 0.0088,\n",
       "         0.0089, 0.0076, 0.0103, 0.0141, 0.0080, 0.0080, 0.0137, 0.0068, 0.0128,\n",
       "         0.0074, 0.0100, 0.0093, 0.0091, 0.0073, 0.0085, 0.0063, 0.0129, 0.0075,\n",
       "         0.0084, 0.0049, 0.0060, 0.0084, 0.0116, 0.0059, 0.0079, 0.0089, 0.0061,\n",
       "         0.0107, 0.0058, 0.0119, 0.0063, 0.0071, 0.0055, 0.0089, 0.0085, 0.0062,\n",
       "         0.0078, 0.0052, 0.0087, 0.0076, 0.0102, 0.0053, 0.0081, 0.0137, 0.0088,\n",
       "         0.0082, 0.0088, 0.0086, 0.0091, 0.0070, 0.0079, 0.0116, 0.0069, 0.0081,\n",
       "         0.0084, 0.0066, 0.0055, 0.0095, 0.0073, 0.0140, 0.0089, 0.0102, 0.0070,\n",
       "         0.0057, 0.0088, 0.0071, 0.0081, 0.0054, 0.0132, 0.0089, 0.0119, 0.0066,\n",
       "         0.0068, 0.0060, 0.0085, 0.0077, 0.0113, 0.0102, 0.0043, 0.0076, 0.0053,\n",
       "         0.0057, 0.0084, 0.0063, 0.0048, 0.0072, 0.0090, 0.0115, 0.0118, 0.0069,\n",
       "         0.0139, 0.0098, 0.0070, 0.0084]])"
      ]
     },
     "execution_count": 72,
     "metadata": {},
     "output_type": "execute_result"
    }
   ],
   "source": [
    "def infer(model, boardString):\n",
    "    model.eval()\n",
    "    with torch.no_grad():\n",
    "        boardTensor = tensorfyBoard(boardString)\n",
    "        logits = model(boardTensor.float().unsqueeze(0))\n",
    "        probs = torch.nn.functional.softmax(logits, dim=1)\n",
    "\n",
    "    return probs\n",
    "\n",
    "infer(model, tempBoard)"
   ]
  },
  {
   "cell_type": "code",
   "execution_count": 73,
   "metadata": {},
   "outputs": [],
   "source": [
    "torch.save(model.state_dict(), './models/test.pth')"
   ]
  }
 ],
 "metadata": {
  "kernelspec": {
   "display_name": "Python 3",
   "language": "python",
   "name": "python3"
  },
  "language_info": {
   "codemirror_mode": {
    "name": "ipython",
    "version": 3
   },
   "file_extension": ".py",
   "mimetype": "text/x-python",
   "name": "python",
   "nbconvert_exporter": "python",
   "pygments_lexer": "ipython3",
   "version": "3.11.5"
  }
 },
 "nbformat": 4,
 "nbformat_minor": 2
}
